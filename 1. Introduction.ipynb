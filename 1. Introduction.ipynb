{
  "cells": [
    {
      "cell_type": "markdown",
      "metadata": {
        "id": "zUwTVSnZoFA3"
      },
      "source": [
        "# Introduction to PyTorch\n",
        "\n",
        "**Nicolas Nytko**  \n",
        "nnytko2@illinois.edu  \n",
        "https://github.com/nicknytko/siam-pytorch-workshop\n",
        "\n",
        "Adapted from materials by Matthew West (mwest@illinois.edu)\n",
        "\n",
        "_SIAM @ Illinois workshop series_\n",
        "\n",
        "November 12, 2024\n",
        "\n",
        "**Description:** PyTorch allows you to easily train and run machine learning models. It uses standard Python methods for writing code, so it's both simple and powerful. We will cover the core automatic differentiation capabilities of PyTorch, training deep neural networks, managing training and test data, saving and loading models, and show a few examples of neural network implementations. We will assume a good knowledge of Python and NumPy, and basic knowledge of machine learning with neural nets."
      ]
    },
    {
      "cell_type": "markdown",
      "metadata": {
        "id": "4-H2QnMKoFA4"
      },
      "source": [
        "# List of resources\n",
        "\n",
        "- PyTorch tutorials: https://pytorch.org/tutorials/\n",
        "- PyTorch manual: https://pytorch.org/docs/stable/index.html\n",
        "- PyTorch paper: https://openreview.net/forum?id=BJJsrmfCZ\n",
        "- Calculus in Machine Learning: https://machinelearningmastery.com/calculus-in-machine-learning-why-it-works/\n",
        "- Calculus on computational graphs: http://colah.github.io/posts/2015-08-Backprop/\n",
        "- Einstein summation in PyTorch: https://rockt.github.io/2018/04/30/einsum"
      ]
    },
    {
      "cell_type": "markdown",
      "metadata": {
        "id": "uDNJMbvjoFA4"
      },
      "source": [
        "# First, some math background"
      ]
    },
    {
      "cell_type": "markdown",
      "metadata": {
        "id": "IjM0BzCGoFA4"
      },
      "source": [
        "Three main \"approaches\" to machine learning:\n",
        "- Supervised learning\n",
        "- Unsupervised learning\n",
        "- Reinforcement learning\n",
        "\n",
        "We'll focus on supervised learning, though what we'll show here will be applicable to all 3."
      ]
    },
    {
      "cell_type": "markdown",
      "metadata": {
        "id": "57lYA9RFoFA4"
      },
      "source": [
        "Let's say we have some unknown function $f : \\mathbb{R}^m \\to \\mathbb{R}^n$; for example, a function that takes an image and outputs $1$ if it contains a cat, and $0$ otherwise.\n",
        "\n",
        "![](https://github.com/nicknytko/siam-pytorch-workshop/blob/main/figures/f_catdog.png?raw=1)\n",
        "\n",
        "<small> Dog photo from https://www.pickpik.com/dog-puppy-cute-adorable-pet-cute-puppy-59501 </small>\n",
        "\n",
        "This is pretty easy for humans to determine!  However, we don't know what such a function \"looks like\" nor how we would implement it on a computer.  So, we seek an approximate function $\\hat{f} \\approx f$ where $\\hat{f}$ is much easier for us to evaluate.\n",
        "\n",
        "Here's a smaller example with a linear regression."
      ]
    },
    {
      "cell_type": "code",
      "execution_count": 1,
      "metadata": {
        "colab": {
          "base_uri": "https://localhost:8080/",
          "height": 447
        },
        "id": "O65mYndVoFA5",
        "outputId": "3c7a4088-d2f3-479e-86ae-211a4d92da97"
      },
      "outputs": [
        {
          "output_type": "execute_result",
          "data": {
            "text/plain": [
              "[<matplotlib.lines.Line2D at 0x7e9dacc8e350>]"
            ]
          },
          "metadata": {},
          "execution_count": 1
        },
        {
          "output_type": "display_data",
          "data": {
            "text/plain": [
              "<Figure size 640x480 with 1 Axes>"
            ],
            "image/png": "[encoded data removed]"
          },
          "metadata": {}
        }
      ],
      "source": [
        "import numpy as np\n",
        "import matplotlib.pyplot as plt\n",
        "\n",
        "x = np.linspace(0, 1, 50)\n",
        "f = 5 + 3*x + np.random.randn(50)*0.1\n",
        "\n",
        "plt.plot(x, f, 'o')"
      ]
    },
    {
      "cell_type": "markdown",
      "metadata": {
        "id": "qP5pOrBgoFA5"
      },
      "source": [
        "Here, the output of $f$ is displayed for a few values of $x$.  This is pretty simple, but useful for demonstration!  Let us try to fit a $\\hat{f}$ that approximates $f$ closely.  Lets assume $\\hat{f}$ is a linear function of the form\n",
        "$$ \\hat{f}(x; m, b) = mx + b. $$\n",
        "One way of forcing $\\hat{f} \\approx f$ is to minimize the function\n",
        "$$ \\ell(m, b) = \\sum_i (f(x_i, m, b) - f(x))^2 = \\sum_i (mx_i + b - f(x))^2 $$\n",
        "How do we do this?  Recall from calculus that to find the minimum of a function, we can take the derivatives and solve for $0$.\n",
        "\n",
        "$$\\begin{align*}\n",
        "\\frac{\\partial \\ell}{\\partial m} &= \\sum_i 2x_i(mx_i + b - f(x)) \\\\\n",
        "\\frac{\\partial \\ell}{\\partial b} &= \\sum_i 2(mx_i + b - f(x))\n",
        "\\end{align*}$$\n",
        "\n",
        "Numerically, we can implement this using *gradient descent*.  We start with some random initial values of $m, b$ and update like\n",
        "$$\\begin{align*}\n",
        "m &\\gets m - \\alpha \\frac{\\partial \\ell}{\\partial m}(m, b), \\\\\n",
        "b &\\gets b - \\alpha \\frac{\\partial \\ell}{\\partial b}(m, b),\n",
        "\\end{align*}$$\n",
        "where $\\alpha \\in \\mathbb{R}^+$ is some small parameter called the *learning rate*.  Lets see it in action:"
      ]
    },
    {
      "cell_type": "code",
      "execution_count": 2,
      "metadata": {
        "id": "bWmKfQi0oFA5"
      },
      "outputs": [],
      "source": [
        "# Start with an arbitrary guess for the slope and bias\n",
        "m = 1.0\n",
        "b = 0.0\n",
        "\n",
        "alpha = 0.01"
      ]
    },
    {
      "cell_type": "code",
      "execution_count": 10,
      "metadata": {
        "colab": {
          "base_uri": "https://localhost:8080/",
          "height": 482
        },
        "id": "o2JZwpK4oFA5",
        "outputId": "2f722393-8b60-4cb7-9415-4fb91ffde2e9"
      },
      "outputs": [
        {
          "output_type": "stream",
          "name": "stdout",
          "text": [
            "Loss: 0.956\n",
            "Derivatives: 2.264e+00 -1.138e+00\n",
            "m: 3.297, b: 4.835\n"
          ]
        },
        {
          "output_type": "display_data",
          "data": {
            "text/plain": [
              "<Figure size 640x480 with 1 Axes>"
            ],
            "image/png": "[encoded data removed]"
          },
          "metadata": {}
        }
      ],
      "source": [
        "# Compute derivatives\n",
        "dl_dm = np.sum(2 * x * (m * x + b - f))\n",
        "dl_db = np.sum(2 * (m * x + b - f))\n",
        "\n",
        "# Descend\n",
        "m -= dl_dm * alpha\n",
        "b -= dl_db * alpha\n",
        "\n",
        "# Plot the results\n",
        "f_hat = m * x + b\n",
        "\n",
        "plt.plot(x, f, 'o')\n",
        "plt.plot(x, f_hat)\n",
        "plt.ylim(np.min(f) - 1, np.max(f) + 1)\n",
        "\n",
        "print(f'Loss: {np.sum((f_hat - f) ** 2):.3f}')\n",
        "print(f'Derivatives: {dl_dm:.3e} {dl_db:.3e}')\n",
        "print(f'm: {m:.3f}, b: {b:.3f}')"
      ]
    },
    {
      "cell_type": "markdown",
      "metadata": {
        "id": "LTl4BG_uoFA5"
      },
      "source": [
        "This is the basic idea behind supervised learning!  Of course, we did everything by hand, like taking the derivatives and performing gradient descent, which is a lot of work as our models will get more complex.  As we'll see, PyTorch can implement much of this for us."
      ]
    },
    {
      "cell_type": "markdown",
      "metadata": {
        "id": "Skiy-dIToFA5"
      },
      "source": [
        "# Let's get started with PyTorch!"
      ]
    },
    {
      "cell_type": "code",
      "execution_count": 11,
      "metadata": {
        "id": "qT_N9hFloFA5"
      },
      "outputs": [],
      "source": [
        "import torch\n",
        "import torch.linalg as tla\n",
        "import random, datetime"
      ]
    },
    {
      "cell_type": "code",
      "execution_count": 12,
      "metadata": {
        "id": "f6LuTV8roFA6"
      },
      "outputs": [],
      "source": [
        "x = torch.tensor([1.0, 2.0, 3.0])"
      ]
    },
    {
      "cell_type": "code",
      "execution_count": 13,
      "metadata": {
        "colab": {
          "base_uri": "https://localhost:8080/"
        },
        "id": "qcqXyX4PoFA6",
        "outputId": "b0019247-9248-471f-c305-8cc399058bbd"
      },
      "outputs": [
        {
          "output_type": "execute_result",
          "data": {
            "text/plain": [
              "tensor([1., 2., 3.])"
            ]
          },
          "metadata": {},
          "execution_count": 13
        }
      ],
      "source": [
        "x"
      ]
    },
    {
      "cell_type": "code",
      "execution_count": 14,
      "metadata": {
        "colab": {
          "base_uri": "https://localhost:8080/"
        },
        "id": "0mfoECuNoFA6",
        "outputId": "1021abd6-442a-4428-a85b-960968795407"
      },
      "outputs": [
        {
          "output_type": "execute_result",
          "data": {
            "text/plain": [
              "tensor([1., 4., 9.])"
            ]
          },
          "metadata": {},
          "execution_count": 14
        }
      ],
      "source": [
        "x ** 2"
      ]
    },
    {
      "cell_type": "code",
      "execution_count": 15,
      "metadata": {
        "colab": {
          "base_uri": "https://localhost:8080/"
        },
        "id": "bGrd7arJoFA6",
        "outputId": "8afffcbd-3df7-4250-b8b0-d85b8a878546"
      },
      "outputs": [
        {
          "output_type": "execute_result",
          "data": {
            "text/plain": [
              "tensor([ 0.5403, -0.4161, -0.9900])"
            ]
          },
          "metadata": {},
          "execution_count": 15
        }
      ],
      "source": [
        "torch.cos(x)"
      ]
    },
    {
      "cell_type": "code",
      "execution_count": 16,
      "metadata": {
        "colab": {
          "base_uri": "https://localhost:8080/"
        },
        "id": "Or9wOM4soFA6",
        "outputId": "8a6aea9f-92fb-40be-e7ee-640b9dcba484"
      },
      "outputs": [
        {
          "output_type": "execute_result",
          "data": {
            "text/plain": [
              "tensor(3.7417)"
            ]
          },
          "metadata": {},
          "execution_count": 16
        }
      ],
      "source": [
        "tla.norm(x)"
      ]
    },
    {
      "cell_type": "code",
      "execution_count": 17,
      "metadata": {
        "colab": {
          "base_uri": "https://localhost:8080/"
        },
        "id": "aaos4wjUoFA6",
        "outputId": "9d0e839f-2b73-4a2b-c890-14a3ce1d99f9"
      },
      "outputs": [
        {
          "output_type": "execute_result",
          "data": {
            "text/plain": [
              "tensor([1., 4., 9.])"
            ]
          },
          "metadata": {},
          "execution_count": 17
        }
      ],
      "source": [
        "x**2"
      ]
    },
    {
      "cell_type": "code",
      "execution_count": 18,
      "metadata": {
        "colab": {
          "base_uri": "https://localhost:8080/"
        },
        "id": "5v0TB-mdoFA6",
        "outputId": "16fc2aac-00cb-40ec-d992-fada3b201299"
      },
      "outputs": [
        {
          "output_type": "execute_result",
          "data": {
            "text/plain": [
              "torch.float32"
            ]
          },
          "metadata": {},
          "execution_count": 18
        }
      ],
      "source": [
        "x.dtype"
      ]
    },
    {
      "cell_type": "markdown",
      "metadata": {
        "id": "NHG75hdRoFA6"
      },
      "source": [
        "#### Specify datatypes\n",
        "\n",
        "Use `dtype=torch.float64` and `.double()`"
      ]
    },
    {
      "cell_type": "code",
      "execution_count": 19,
      "metadata": {
        "colab": {
          "base_uri": "https://localhost:8080/"
        },
        "id": "_J0_HVacoFA6",
        "outputId": "600c579c-939a-4dda-989e-5338e88b17db"
      },
      "outputs": [
        {
          "output_type": "execute_result",
          "data": {
            "text/plain": [
              "tensor([1., 2., 3.], dtype=torch.float64)"
            ]
          },
          "metadata": {},
          "execution_count": 19
        }
      ],
      "source": [
        "y = x.double()\n",
        "y"
      ]
    },
    {
      "cell_type": "code",
      "execution_count": 20,
      "metadata": {
        "colab": {
          "base_uri": "https://localhost:8080/"
        },
        "id": "ear_z7XioFA6",
        "outputId": "666f1063-1e38-47e0-c4c9-b6754c67e021"
      },
      "outputs": [
        {
          "output_type": "execute_result",
          "data": {
            "text/plain": [
              "torch.float64"
            ]
          },
          "metadata": {},
          "execution_count": 20
        }
      ],
      "source": [
        "y.dtype"
      ]
    },
    {
      "cell_type": "code",
      "execution_count": 21,
      "metadata": {
        "colab": {
          "base_uri": "https://localhost:8080/"
        },
        "id": "j1D1-aamoFA6",
        "outputId": "597c0ecd-2b26-462f-c761-3539dd361f23"
      },
      "outputs": [
        {
          "output_type": "execute_result",
          "data": {
            "text/plain": [
              "tensor([1., 2., 3.])"
            ]
          },
          "metadata": {},
          "execution_count": 21
        }
      ],
      "source": [
        "y.float()"
      ]
    },
    {
      "cell_type": "code",
      "execution_count": 22,
      "metadata": {
        "colab": {
          "base_uri": "https://localhost:8080/"
        },
        "id": "jG4TFEzloFA6",
        "outputId": "902c3782-de09-4eb5-bbed-342ff5727a0f"
      },
      "outputs": [
        {
          "output_type": "execute_result",
          "data": {
            "text/plain": [
              "tensor([1, 2, 3], dtype=torch.int32)"
            ]
          },
          "metadata": {},
          "execution_count": 22
        }
      ],
      "source": [
        "y.int()"
      ]
    },
    {
      "cell_type": "code",
      "execution_count": 23,
      "metadata": {
        "id": "bCbwo9z8oFA6"
      },
      "outputs": [],
      "source": [
        "x = torch.tensor([1, 2, 3])"
      ]
    },
    {
      "cell_type": "code",
      "execution_count": 24,
      "metadata": {
        "colab": {
          "base_uri": "https://localhost:8080/"
        },
        "id": "Gvd_s8_ooFA6",
        "outputId": "ba7268ca-2f9e-4a67-f31f-2ebaaa9f728b"
      },
      "outputs": [
        {
          "output_type": "execute_result",
          "data": {
            "text/plain": [
              "tensor([0.0000, 0.6931, 1.0986])"
            ]
          },
          "metadata": {},
          "execution_count": 24
        }
      ],
      "source": [
        "torch.log(x)"
      ]
    },
    {
      "cell_type": "code",
      "execution_count": 25,
      "metadata": {
        "colab": {
          "base_uri": "https://localhost:8080/"
        },
        "id": "FbLD30E_oFA6",
        "outputId": "0083dc54-eb14-4d54-a244-8e5100cf9da4"
      },
      "outputs": [
        {
          "output_type": "execute_result",
          "data": {
            "text/plain": [
              "torch.int64"
            ]
          },
          "metadata": {},
          "execution_count": 25
        }
      ],
      "source": [
        "x.dtype"
      ]
    },
    {
      "cell_type": "code",
      "execution_count": 26,
      "metadata": {
        "id": "R3yjTNJkoFA6"
      },
      "outputs": [],
      "source": [
        "x = torch.tensor([1, 2, 3], dtype=torch.float64)"
      ]
    },
    {
      "cell_type": "code",
      "execution_count": 27,
      "metadata": {
        "colab": {
          "base_uri": "https://localhost:8080/"
        },
        "id": "LtJ7cA-LoFA6",
        "outputId": "1c39ca86-e3b3-40aa-fc34-47fb4058cf2f"
      },
      "outputs": [
        {
          "output_type": "execute_result",
          "data": {
            "text/plain": [
              "tensor([0.0000, 0.6931, 1.0986], dtype=torch.float64)"
            ]
          },
          "metadata": {},
          "execution_count": 27
        }
      ],
      "source": [
        "torch.log(x)"
      ]
    },
    {
      "cell_type": "markdown",
      "metadata": {
        "id": "OC2X3aXgoFA6"
      },
      "source": [
        "# `torch.autograd`: Computing derivatives\n",
        "\n",
        "PyTorch constructs the computation graph as you do operations (dynamic graphs) unlike TensorFlow (static graphs)\n",
        "\n",
        "Using the computation graph, the chain rule (back propagation) can compute derivatives\n",
        "\n",
        "Derivatives are available in the leaf nodes\n",
        "\n",
        "![](https://github.com/nicknytko/siam-pytorch-workshop/blob/main/figures/computation_graph.jpg?raw=1)\n",
        "\n",
        "<small>Figure from http://datahacker.rs/004-computational-graph-and-autograd-with-pytorch/</small>"
      ]
    },
    {
      "cell_type": "code",
      "execution_count": 28,
      "metadata": {
        "id": "QP5r2laJoFA6"
      },
      "outputs": [],
      "source": [
        "x = torch.tensor(5.0)"
      ]
    },
    {
      "cell_type": "code",
      "execution_count": 31,
      "metadata": {
        "id": "GQGueqXaoFA6"
      },
      "outputs": [],
      "source": [
        "y = torch.tensor(3.0, requires_grad=True)"
      ]
    },
    {
      "cell_type": "code",
      "execution_count": 30,
      "metadata": {
        "colab": {
          "base_uri": "https://localhost:8080/"
        },
        "id": "V_Tg_x3MoFA6",
        "outputId": "1f5a52ec-4391-4ead-ffec-b5dc5dc24eea"
      },
      "outputs": [
        {
          "output_type": "execute_result",
          "data": {
            "text/plain": [
              "tensor(45., grad_fn=<MulBackward0>)"
            ]
          },
          "metadata": {},
          "execution_count": 30
        }
      ],
      "source": [
        "z = x * y**2\n",
        "z"
      ]
    },
    {
      "cell_type": "code",
      "execution_count": 32,
      "metadata": {
        "id": "GqUTCXedoFA6"
      },
      "outputs": [],
      "source": [
        "z.backward()"
      ]
    },
    {
      "cell_type": "code",
      "execution_count": 33,
      "metadata": {
        "colab": {
          "base_uri": "https://localhost:8080/"
        },
        "id": "Fvp3GXTaoFA6",
        "outputId": "508ed64b-e26f-46ad-ede2-0124f46986f1"
      },
      "outputs": [
        {
          "output_type": "stream",
          "name": "stdout",
          "text": [
            "x.grad = None\n"
          ]
        }
      ],
      "source": [
        "print(f'x.grad = {x.grad}')"
      ]
    },
    {
      "cell_type": "code",
      "execution_count": 35,
      "metadata": {
        "id": "EzMF9IUtoFA6"
      },
      "outputs": [],
      "source": [
        "y.grad"
      ]
    },
    {
      "cell_type": "markdown",
      "metadata": {
        "id": "4PeCpwlwoFA6"
      },
      "source": [
        "$z = x y^2$\n",
        "\n",
        "$\\frac{\\partial z}{\\partial y} = 2 x y$"
      ]
    },
    {
      "cell_type": "code",
      "execution_count": 36,
      "metadata": {
        "colab": {
          "base_uri": "https://localhost:8080/"
        },
        "id": "UfdI14ZCoFA6",
        "outputId": "6e211062-b242-4388-bc84-7af337cb4ee9"
      },
      "outputs": [
        {
          "output_type": "execute_result",
          "data": {
            "text/plain": [
              "tensor(30., grad_fn=<MulBackward0>)"
            ]
          },
          "metadata": {},
          "execution_count": 36
        }
      ],
      "source": [
        "2*x*y"
      ]
    },
    {
      "cell_type": "markdown",
      "metadata": {
        "id": "2q-hHnueoFA6"
      },
      "source": [
        "#### Control what we differentiate with respect to\n",
        "\n",
        "`requires_grad=True`\n",
        "\n",
        "`with no_grad():`\n",
        "\n",
        "`.detach()`"
      ]
    },
    {
      "cell_type": "code",
      "execution_count": 37,
      "metadata": {
        "colab": {
          "base_uri": "https://localhost:8080/"
        },
        "id": "BkqQjNMUoFA-",
        "outputId": "8fbc1a46-c42d-4820-933f-92c9822ea45c"
      },
      "outputs": [
        {
          "output_type": "stream",
          "name": "stdout",
          "text": [
            "y.requires_grad = True\n",
            "dz/dx = 12.0\n"
          ]
        }
      ],
      "source": [
        "x = torch.tensor(2.0, requires_grad=True)\n",
        "y = x*x\n",
        "print(f'y.requires_grad = {y.requires_grad}')\n",
        "z = x*y\n",
        "z.backward()\n",
        "print(f'dz/dx = {x.grad}')"
      ]
    },
    {
      "cell_type": "code",
      "execution_count": 38,
      "metadata": {
        "colab": {
          "base_uri": "https://localhost:8080/"
        },
        "id": "523qLRqqoFA-",
        "outputId": "f4c365a5-bffa-44f8-a267-43fd98998487"
      },
      "outputs": [
        {
          "output_type": "stream",
          "name": "stdout",
          "text": [
            "y.requires_grad = False\n",
            "dz/dx = 4.0\n"
          ]
        }
      ],
      "source": [
        "x = torch.tensor(2.0, requires_grad=True)\n",
        "y = x*x\n",
        "y = y.detach() # can't say y.requires_grad = False\n",
        "print(f'y.requires_grad = {y.requires_grad}')\n",
        "z = x*y\n",
        "z.backward()\n",
        "print(f'dz/dx = {x.grad}')"
      ]
    },
    {
      "cell_type": "code",
      "execution_count": 39,
      "metadata": {
        "colab": {
          "base_uri": "https://localhost:8080/"
        },
        "id": "ijJspWyEoFA-",
        "outputId": "3184c186-e025-4e0a-f4ff-19120af6c578"
      },
      "outputs": [
        {
          "output_type": "stream",
          "name": "stdout",
          "text": [
            "y.requires_grad = False\n",
            "dz/dx = 4.0\n"
          ]
        }
      ],
      "source": [
        "x = torch.tensor(2.0, requires_grad=True)\n",
        "with torch.no_grad():\n",
        "    y = x*x\n",
        "print(f'y.requires_grad = {y.requires_grad}')\n",
        "z = x*y\n",
        "z.backward()\n",
        "print(f'dz/dx = {x.grad}')"
      ]
    },
    {
      "cell_type": "markdown",
      "metadata": {
        "id": "vlfkOkqCoFA-"
      },
      "source": [
        "#### Computation graphs are not trees\n",
        "\n",
        "Re-using a parameter in multiple places makes the graph not be a tree. It's a DAG."
      ]
    },
    {
      "cell_type": "code",
      "execution_count": 43,
      "metadata": {
        "colab": {
          "base_uri": "https://localhost:8080/"
        },
        "id": "epy6HoeZoFA-",
        "outputId": "e5c17dac-3b31-4ea8-b798-d483151c65af"
      },
      "outputs": [
        {
          "output_type": "execute_result",
          "data": {
            "text/plain": [
              "tensor(8.)"
            ]
          },
          "metadata": {},
          "execution_count": 43
        }
      ],
      "source": [
        "x = torch.tensor(2.0, requires_grad=True)\n",
        "y = 3*x\n",
        "z = x**2\n",
        "w = y + z + x\n",
        "w.backward()\n",
        "x.grad"
      ]
    },
    {
      "cell_type": "markdown",
      "metadata": {
        "id": "6C1tSZknoFA-"
      },
      "source": [
        "$\\frac{\\partial w}{\\partial x} = \\frac{\\partial}{\\partial x}(3x + x^2 + x) = 3 + 2x + 1$"
      ]
    },
    {
      "cell_type": "code",
      "execution_count": 44,
      "metadata": {
        "colab": {
          "base_uri": "https://localhost:8080/"
        },
        "id": "FcaCF7WVoFA-",
        "outputId": "5b38d68e-e38e-47d4-c50c-2abc09cffa7b"
      },
      "outputs": [
        {
          "output_type": "execute_result",
          "data": {
            "text/plain": [
              "tensor(8., grad_fn=<AddBackward0>)"
            ]
          },
          "metadata": {},
          "execution_count": 44
        }
      ],
      "source": [
        "3 + 2*x + 1"
      ]
    },
    {
      "cell_type": "markdown",
      "metadata": {
        "id": "bHj-z3pmoFA-"
      },
      "source": [
        "#### The computation graph is destroyed by `backward()`\n",
        "\n",
        "To retain it for more differentiation, use `backward(retain_graph=True)`\n",
        "\n",
        "A common use case is multiple outputs with a shared subgraph\n",
        "\n",
        "Don't forget to free the graph on the last call to prevent memory leaks"
      ]
    },
    {
      "cell_type": "code",
      "execution_count": 45,
      "metadata": {
        "id": "HNY0hkIyoFA-"
      },
      "outputs": [],
      "source": [
        "x = torch.tensor(3.0, requires_grad=True)\n",
        "y = x**2\n",
        "z1 = 3*y\n",
        "z2 = 4*y"
      ]
    },
    {
      "cell_type": "code",
      "execution_count": 46,
      "metadata": {
        "colab": {
          "base_uri": "https://localhost:8080/"
        },
        "id": "U1Yg_YaWoFA-",
        "outputId": "9acfae48-ce34-49e7-d332-174faac4d204"
      },
      "outputs": [
        {
          "output_type": "execute_result",
          "data": {
            "text/plain": [
              "tensor(18.)"
            ]
          },
          "metadata": {},
          "execution_count": 46
        }
      ],
      "source": [
        "z1.backward() # (retain_graph=True)\n",
        "x.grad"
      ]
    },
    {
      "cell_type": "code",
      "execution_count": 47,
      "metadata": {
        "colab": {
          "base_uri": "https://localhost:8080/",
          "height": 339
        },
        "id": "xJ-DBGGfoFA-",
        "outputId": "5626509a-6432-47d5-93b8-c5cd8477a31e"
      },
      "outputs": [
        {
          "output_type": "error",
          "ename": "RuntimeError",
          "evalue": "Trying to backward through the graph a second time (or directly access saved tensors after they have already been freed). Saved intermediate values of the graph are freed when you call .backward() or autograd.grad(). Specify retain_graph=True if you need to backward through the graph a second time or if you need to access saved tensors after calling backward.",
          "traceback": [
            "\u001b[0;31m---------------------------------------------------------------------------\u001b[0m",
            "\u001b[0;31mRuntimeError\u001b[0m                              Traceback (most recent call last)",
            "\u001b[0;32m<ipython-input-47-1a4c99d3d2ee>\u001b[0m in \u001b[0;36m<cell line: 1>\u001b[0;34m()\u001b[0m\n\u001b[0;32m----> 1\u001b[0;31m \u001b[0mz2\u001b[0m\u001b[0;34m.\u001b[0m\u001b[0mbackward\u001b[0m\u001b[0;34m(\u001b[0m\u001b[0;34m)\u001b[0m\u001b[0;34m\u001b[0m\u001b[0;34m\u001b[0m\u001b[0m\n\u001b[0m\u001b[1;32m      2\u001b[0m \u001b[0mx\u001b[0m\u001b[0;34m.\u001b[0m\u001b[0mgrad\u001b[0m\u001b[0;34m\u001b[0m\u001b[0;34m\u001b[0m\u001b[0m\n",
            "\u001b[0;32m/usr/local/lib/python3.10/dist-packages/torch/_tensor.py\u001b[0m in \u001b[0;36mbackward\u001b[0;34m(self, gradient, retain_graph, create_graph, inputs)\u001b[0m\n\u001b[1;32m    579\u001b[0m                 \u001b[0minputs\u001b[0m\u001b[0;34m=\u001b[0m\u001b[0minputs\u001b[0m\u001b[0;34m,\u001b[0m\u001b[0;34m\u001b[0m\u001b[0;34m\u001b[0m\u001b[0m\n\u001b[1;32m    580\u001b[0m             )\n\u001b[0;32m--> 581\u001b[0;31m         torch.autograd.backward(\n\u001b[0m\u001b[1;32m    582\u001b[0m             \u001b[0mself\u001b[0m\u001b[0;34m,\u001b[0m \u001b[0mgradient\u001b[0m\u001b[0;34m,\u001b[0m \u001b[0mretain_graph\u001b[0m\u001b[0;34m,\u001b[0m \u001b[0mcreate_graph\u001b[0m\u001b[0;34m,\u001b[0m \u001b[0minputs\u001b[0m\u001b[0;34m=\u001b[0m\u001b[0minputs\u001b[0m\u001b[0;34m\u001b[0m\u001b[0;34m\u001b[0m\u001b[0m\n\u001b[1;32m    583\u001b[0m         )\n",
            "\u001b[0;32m/usr/local/lib/python3.10/dist-packages/torch/autograd/__init__.py\u001b[0m in \u001b[0;36mbackward\u001b[0;34m(tensors, grad_tensors, retain_graph, create_graph, grad_variables, inputs)\u001b[0m\n\u001b[1;32m    345\u001b[0m     \u001b[0;31m# some Python versions print out the first line of a multi-line function\u001b[0m\u001b[0;34m\u001b[0m\u001b[0;34m\u001b[0m\u001b[0m\n\u001b[1;32m    346\u001b[0m     \u001b[0;31m# calls in the traceback and some print out the last line\u001b[0m\u001b[0;34m\u001b[0m\u001b[0;34m\u001b[0m\u001b[0m\n\u001b[0;32m--> 347\u001b[0;31m     _engine_run_backward(\n\u001b[0m\u001b[1;32m    348\u001b[0m         \u001b[0mtensors\u001b[0m\u001b[0;34m,\u001b[0m\u001b[0;34m\u001b[0m\u001b[0;34m\u001b[0m\u001b[0m\n\u001b[1;32m    349\u001b[0m         \u001b[0mgrad_tensors_\u001b[0m\u001b[0;34m,\u001b[0m\u001b[0;34m\u001b[0m\u001b[0;34m\u001b[0m\u001b[0m\n",
            "\u001b[0;32m/usr/local/lib/python3.10/dist-packages/torch/autograd/graph.py\u001b[0m in \u001b[0;36m_engine_run_backward\u001b[0;34m(t_outputs, *args, **kwargs)\u001b[0m\n\u001b[1;32m    823\u001b[0m         \u001b[0munregister_hooks\u001b[0m \u001b[0;34m=\u001b[0m \u001b[0m_register_logging_hooks_on_whole_graph\u001b[0m\u001b[0;34m(\u001b[0m\u001b[0mt_outputs\u001b[0m\u001b[0;34m)\u001b[0m\u001b[0;34m\u001b[0m\u001b[0;34m\u001b[0m\u001b[0m\n\u001b[1;32m    824\u001b[0m     \u001b[0;32mtry\u001b[0m\u001b[0;34m:\u001b[0m\u001b[0;34m\u001b[0m\u001b[0;34m\u001b[0m\u001b[0m\n\u001b[0;32m--> 825\u001b[0;31m         return Variable._execution_engine.run_backward(  # Calls into the C++ engine to run the backward pass\n\u001b[0m\u001b[1;32m    826\u001b[0m             \u001b[0mt_outputs\u001b[0m\u001b[0;34m,\u001b[0m \u001b[0;34m*\u001b[0m\u001b[0margs\u001b[0m\u001b[0;34m,\u001b[0m \u001b[0;34m**\u001b[0m\u001b[0mkwargs\u001b[0m\u001b[0;34m\u001b[0m\u001b[0;34m\u001b[0m\u001b[0m\n\u001b[1;32m    827\u001b[0m         )  # Calls into the C++ engine to run the backward pass\n",
            "\u001b[0;31mRuntimeError\u001b[0m: Trying to backward through the graph a second time (or directly access saved tensors after they have already been freed). Saved intermediate values of the graph are freed when you call .backward() or autograd.grad(). Specify retain_graph=True if you need to backward through the graph a second time or if you need to access saved tensors after calling backward."
          ]
        }
      ],
      "source": [
        "z2.backward()\n",
        "x.grad"
      ]
    },
    {
      "cell_type": "markdown",
      "metadata": {
        "id": "Xcn85IefoFA-"
      },
      "source": [
        "#### Derivatives of scalars with respect to tensors"
      ]
    },
    {
      "cell_type": "code",
      "execution_count": 48,
      "metadata": {
        "colab": {
          "base_uri": "https://localhost:8080/"
        },
        "id": "SAl6tFnYoFA-",
        "outputId": "5503a8fa-19ee-4355-ac79-f7a73f52d414"
      },
      "outputs": [
        {
          "output_type": "execute_result",
          "data": {
            "text/plain": [
              "tensor([2., 4., 6.])"
            ]
          },
          "metadata": {},
          "execution_count": 48
        }
      ],
      "source": [
        "x = torch.tensor([1.0, 2.0, 3.0], requires_grad=True)\n",
        "y = (x**2).sum()\n",
        "y.backward()\n",
        "x.grad"
      ]
    },
    {
      "cell_type": "markdown",
      "metadata": {
        "id": "DgYq2sfwoFA-"
      },
      "source": [
        "#### Don't do in-place modifications to tensors\n",
        "\n",
        "But it's fine to do `x = 4 * x`"
      ]
    },
    {
      "cell_type": "code",
      "execution_count": 49,
      "metadata": {
        "colab": {
          "base_uri": "https://localhost:8080/"
        },
        "id": "tETnVaCjoFA-",
        "outputId": "b5ad0137-331f-4f9e-e7ad-4cd913ebf46c"
      },
      "outputs": [
        {
          "output_type": "execute_result",
          "data": {
            "text/plain": [
              "tensor([1., 2., 3.], requires_grad=True)"
            ]
          },
          "metadata": {},
          "execution_count": 49
        }
      ],
      "source": [
        "x = torch.tensor([1.0, 2.0, 3.0], requires_grad=True)\n",
        "x"
      ]
    },
    {
      "cell_type": "code",
      "execution_count": 50,
      "metadata": {
        "colab": {
          "base_uri": "https://localhost:8080/",
          "height": 176
        },
        "id": "uAgmX_IZoFA-",
        "outputId": "b5acecdb-e544-43de-a460-1d4292f68eac"
      },
      "outputs": [
        {
          "output_type": "error",
          "ename": "RuntimeError",
          "evalue": "a view of a leaf Variable that requires grad is being used in an in-place operation.",
          "traceback": [
            "\u001b[0;31m---------------------------------------------------------------------------\u001b[0m",
            "\u001b[0;31mRuntimeError\u001b[0m                              Traceback (most recent call last)",
            "\u001b[0;32m<ipython-input-50-7ee7afe976bc>\u001b[0m in \u001b[0;36m<cell line: 1>\u001b[0;34m()\u001b[0m\n\u001b[0;32m----> 1\u001b[0;31m \u001b[0mx\u001b[0m\u001b[0;34m[\u001b[0m\u001b[0;36m1\u001b[0m\u001b[0;34m]\u001b[0m \u001b[0;34m=\u001b[0m \u001b[0mx\u001b[0m\u001b[0;34m[\u001b[0m\u001b[0;36m2\u001b[0m\u001b[0;34m]\u001b[0m \u001b[0;34m+\u001b[0m \u001b[0;36m1\u001b[0m\u001b[0;34m\u001b[0m\u001b[0;34m\u001b[0m\u001b[0m\n\u001b[0m\u001b[1;32m      2\u001b[0m \u001b[0;31m#x = 4*x\u001b[0m\u001b[0;34m\u001b[0m\u001b[0;34m\u001b[0m\u001b[0m\n\u001b[1;32m      3\u001b[0m \u001b[0mx\u001b[0m\u001b[0;34m\u001b[0m\u001b[0;34m\u001b[0m\u001b[0m\n",
            "\u001b[0;31mRuntimeError\u001b[0m: a view of a leaf Variable that requires grad is being used in an in-place operation."
          ]
        }
      ],
      "source": [
        "x[1] = x[2] + 1\n",
        "#x = 4*x\n",
        "x"
      ]
    },
    {
      "cell_type": "code",
      "execution_count": 51,
      "metadata": {
        "id": "IJy-omMLoFA-"
      },
      "outputs": [],
      "source": [
        "y = (x**2).sum()\n",
        "y.backward()"
      ]
    },
    {
      "cell_type": "markdown",
      "metadata": {
        "id": "wns_k_teoFA-"
      },
      "source": [
        "#### Results can be slightly different from what you expect...\n",
        "\n",
        "Since we're building the graph as computations are being done, functions like `max()` become differentiable"
      ]
    },
    {
      "cell_type": "code",
      "execution_count": 52,
      "metadata": {
        "colab": {
          "base_uri": "https://localhost:8080/"
        },
        "id": "jsGZ_LmioFA-",
        "outputId": "eed3a6c3-5706-4edc-de1e-44b439f7275e"
      },
      "outputs": [
        {
          "output_type": "execute_result",
          "data": {
            "text/plain": [
              "tensor(4., grad_fn=<MaxBackward1>)"
            ]
          },
          "metadata": {},
          "execution_count": 52
        }
      ],
      "source": [
        "x = torch.tensor([1.0, 2.0, 4.0, 3.0, 0.5], requires_grad=True)\n",
        "max_x = torch.max(x)\n",
        "max_x"
      ]
    },
    {
      "cell_type": "code",
      "execution_count": 53,
      "metadata": {
        "colab": {
          "base_uri": "https://localhost:8080/"
        },
        "id": "qi3wwrKAoFA-",
        "outputId": "d819f240-a9db-4a40-c3d4-8b5ccea38a21"
      },
      "outputs": [
        {
          "output_type": "execute_result",
          "data": {
            "text/plain": [
              "tensor([0., 0., 1., 0., 0.])"
            ]
          },
          "metadata": {},
          "execution_count": 53
        }
      ],
      "source": [
        "max_x.backward()\n",
        "x.grad"
      ]
    },
    {
      "cell_type": "markdown",
      "metadata": {
        "id": "7cN4AQ2boFA-"
      },
      "source": [
        "# `torch.optim`: All the common gradient-based optimizers"
      ]
    },
    {
      "cell_type": "code",
      "execution_count": 56,
      "metadata": {
        "id": "LsFXrSmhoFA-"
      },
      "outputs": [],
      "source": [
        "def f(x):\n",
        "    return x**2"
      ]
    },
    {
      "cell_type": "code",
      "execution_count": 55,
      "metadata": {
        "colab": {
          "base_uri": "https://localhost:8080/",
          "height": 447
        },
        "id": "e-4NbfhnoFA-",
        "outputId": "f82c69cc-260b-4a94-b4ed-8ad17a7e6651"
      },
      "outputs": [
        {
          "output_type": "execute_result",
          "data": {
            "text/plain": [
              "[<matplotlib.lines.Line2D at 0x7e9ce69866b0>]"
            ]
          },
          "metadata": {},
          "execution_count": 55
        },
        {
          "output_type": "display_data",
          "data": {
            "text/plain": [
              "<Figure size 640x480 with 1 Axes>"
            ],
            "image/png": "[encoded data removed]"
          },
          "metadata": {}
        }
      ],
      "source": [
        "xvec = np.linspace(-2, 2, 100)\n",
        "fvec = f(xvec)\n",
        "plt.plot(xvec, fvec, 'o-', markersize=3)"
      ]
    },
    {
      "cell_type": "code",
      "execution_count": 77,
      "metadata": {
        "id": "7gqwpOHVoFA-"
      },
      "outputs": [],
      "source": [
        "x = torch.tensor([2.0], requires_grad=True)"
      ]
    },
    {
      "cell_type": "code",
      "execution_count": 78,
      "metadata": {
        "id": "_c-JjNQvoFA-"
      },
      "outputs": [],
      "source": [
        "opt = torch.optim.SGD([x], lr=0.15)"
      ]
    },
    {
      "cell_type": "code",
      "execution_count": 79,
      "metadata": {
        "colab": {
          "base_uri": "https://localhost:8080/"
        },
        "id": "FGAbaGnjoFA-",
        "outputId": "ccc3a483-c094-443e-9e8f-77239bd33b7d"
      },
      "outputs": [
        {
          "output_type": "stream",
          "name": "stdout",
          "text": [
            "##########\n",
            "i = 0\n",
            "initial x = tensor([2.], requires_grad=True)\n",
            "f(x) = tensor([4.], grad_fn=<PowBackward0>)\n",
            "x.grad = tensor([4.])\n",
            "updated x = tensor([1.4000], requires_grad=True)\n",
            "##########\n",
            "i = 1\n",
            "initial x = tensor([1.4000], requires_grad=True)\n",
            "f(x) = tensor([1.9600], grad_fn=<PowBackward0>)\n",
            "x.grad = tensor([2.8000])\n",
            "updated x = tensor([0.9800], requires_grad=True)\n",
            "##########\n",
            "i = 2\n",
            "initial x = tensor([0.9800], requires_grad=True)\n",
            "f(x) = tensor([0.9604], grad_fn=<PowBackward0>)\n",
            "x.grad = tensor([1.9600])\n",
            "updated x = tensor([0.6860], requires_grad=True)\n",
            "##########\n",
            "i = 3\n",
            "initial x = tensor([0.6860], requires_grad=True)\n",
            "f(x) = tensor([0.4706], grad_fn=<PowBackward0>)\n",
            "x.grad = tensor([1.3720])\n",
            "updated x = tensor([0.4802], requires_grad=True)\n",
            "##########\n",
            "i = 4\n",
            "initial x = tensor([0.4802], requires_grad=True)\n",
            "f(x) = tensor([0.2306], grad_fn=<PowBackward0>)\n",
            "x.grad = tensor([0.9604])\n",
            "updated x = tensor([0.3361], requires_grad=True)\n",
            "##########\n",
            "i = 5\n",
            "initial x = tensor([0.3361], requires_grad=True)\n",
            "f(x) = tensor([0.1130], grad_fn=<PowBackward0>)\n",
            "x.grad = tensor([0.6723])\n",
            "updated x = tensor([0.2353], requires_grad=True)\n",
            "##########\n",
            "i = 6\n",
            "initial x = tensor([0.2353], requires_grad=True)\n",
            "f(x) = tensor([0.0554], grad_fn=<PowBackward0>)\n",
            "x.grad = tensor([0.4706])\n",
            "updated x = tensor([0.1647], requires_grad=True)\n",
            "##########\n",
            "i = 7\n",
            "initial x = tensor([0.1647], requires_grad=True)\n",
            "f(x) = tensor([0.0271], grad_fn=<PowBackward0>)\n",
            "x.grad = tensor([0.3294])\n",
            "updated x = tensor([0.1153], requires_grad=True)\n",
            "##########\n",
            "i = 8\n",
            "initial x = tensor([0.1153], requires_grad=True)\n",
            "f(x) = tensor([0.0133], grad_fn=<PowBackward0>)\n",
            "x.grad = tensor([0.2306])\n",
            "updated x = tensor([0.0807], requires_grad=True)\n",
            "##########\n",
            "i = 9\n",
            "initial x = tensor([0.0807], requires_grad=True)\n",
            "f(x) = tensor([0.0065], grad_fn=<PowBackward0>)\n",
            "x.grad = tensor([0.1614])\n",
            "updated x = tensor([0.0565], requires_grad=True)\n",
            "##########\n",
            "i = 10\n",
            "initial x = tensor([0.0565], requires_grad=True)\n",
            "f(x) = tensor([0.0032], grad_fn=<PowBackward0>)\n",
            "x.grad = tensor([0.1130])\n",
            "updated x = tensor([0.0395], requires_grad=True)\n",
            "##########\n",
            "i = 11\n",
            "initial x = tensor([0.0395], requires_grad=True)\n",
            "f(x) = tensor([0.0016], grad_fn=<PowBackward0>)\n",
            "x.grad = tensor([0.0791])\n",
            "updated x = tensor([0.0277], requires_grad=True)\n",
            "##########\n",
            "i = 12\n",
            "initial x = tensor([0.0277], requires_grad=True)\n",
            "f(x) = tensor([0.0008], grad_fn=<PowBackward0>)\n",
            "x.grad = tensor([0.0554])\n",
            "updated x = tensor([0.0194], requires_grad=True)\n",
            "##########\n",
            "i = 13\n",
            "initial x = tensor([0.0194], requires_grad=True)\n",
            "f(x) = tensor([0.0004], grad_fn=<PowBackward0>)\n",
            "x.grad = tensor([0.0388])\n",
            "updated x = tensor([0.0136], requires_grad=True)\n",
            "##########\n",
            "i = 14\n",
            "initial x = tensor([0.0136], requires_grad=True)\n",
            "f(x) = tensor([0.0002], grad_fn=<PowBackward0>)\n",
            "x.grad = tensor([0.0271])\n",
            "updated x = tensor([0.0095], requires_grad=True)\n",
            "##########\n",
            "i = 15\n",
            "initial x = tensor([0.0095], requires_grad=True)\n",
            "f(x) = tensor([9.0157e-05], grad_fn=<PowBackward0>)\n",
            "x.grad = tensor([0.0190])\n",
            "updated x = tensor([0.0066], requires_grad=True)\n",
            "##########\n",
            "i = 16\n",
            "initial x = tensor([0.0066], requires_grad=True)\n",
            "f(x) = tensor([4.4177e-05], grad_fn=<PowBackward0>)\n",
            "x.grad = tensor([0.0133])\n",
            "updated x = tensor([0.0047], requires_grad=True)\n",
            "##########\n",
            "i = 17\n",
            "initial x = tensor([0.0047], requires_grad=True)\n",
            "f(x) = tensor([2.1647e-05], grad_fn=<PowBackward0>)\n",
            "x.grad = tensor([0.0093])\n",
            "updated x = tensor([0.0033], requires_grad=True)\n",
            "##########\n",
            "i = 18\n",
            "initial x = tensor([0.0033], requires_grad=True)\n",
            "f(x) = tensor([1.0607e-05], grad_fn=<PowBackward0>)\n",
            "x.grad = tensor([0.0065])\n",
            "updated x = tensor([0.0023], requires_grad=True)\n",
            "##########\n",
            "i = 19\n",
            "initial x = tensor([0.0023], requires_grad=True)\n",
            "f(x) = tensor([5.1974e-06], grad_fn=<PowBackward0>)\n",
            "x.grad = tensor([0.0046])\n",
            "updated x = tensor([0.0016], requires_grad=True)\n",
            "##########\n",
            "i = 20\n",
            "initial x = tensor([0.0016], requires_grad=True)\n",
            "f(x) = tensor([2.5467e-06], grad_fn=<PowBackward0>)\n",
            "x.grad = tensor([0.0032])\n",
            "updated x = tensor([0.0011], requires_grad=True)\n",
            "##########\n",
            "i = 21\n",
            "initial x = tensor([0.0011], requires_grad=True)\n",
            "f(x) = tensor([1.2479e-06], grad_fn=<PowBackward0>)\n",
            "x.grad = tensor([0.0022])\n",
            "updated x = tensor([0.0008], requires_grad=True)\n",
            "##########\n",
            "i = 22\n",
            "initial x = tensor([0.0008], requires_grad=True)\n",
            "f(x) = tensor([6.1147e-07], grad_fn=<PowBackward0>)\n",
            "x.grad = tensor([0.0016])\n",
            "updated x = tensor([0.0005], requires_grad=True)\n",
            "##########\n",
            "i = 23\n",
            "initial x = tensor([0.0005], requires_grad=True)\n",
            "f(x) = tensor([2.9962e-07], grad_fn=<PowBackward0>)\n",
            "x.grad = tensor([0.0011])\n",
            "updated x = tensor([0.0004], requires_grad=True)\n",
            "##########\n",
            "i = 24\n",
            "initial x = tensor([0.0004], requires_grad=True)\n",
            "f(x) = tensor([1.4681e-07], grad_fn=<PowBackward0>)\n",
            "x.grad = tensor([0.0008])\n",
            "updated x = tensor([0.0003], requires_grad=True)\n",
            "##########\n",
            "i = 25\n",
            "initial x = tensor([0.0003], requires_grad=True)\n",
            "f(x) = tensor([7.1939e-08], grad_fn=<PowBackward0>)\n",
            "x.grad = tensor([0.0005])\n",
            "updated x = tensor([0.0002], requires_grad=True)\n",
            "##########\n",
            "i = 26\n",
            "initial x = tensor([0.0002], requires_grad=True)\n",
            "f(x) = tensor([3.5250e-08], grad_fn=<PowBackward0>)\n",
            "x.grad = tensor([0.0004])\n",
            "updated x = tensor([0.0001], requires_grad=True)\n",
            "##########\n",
            "i = 27\n",
            "initial x = tensor([0.0001], requires_grad=True)\n",
            "f(x) = tensor([1.7272e-08], grad_fn=<PowBackward0>)\n",
            "x.grad = tensor([0.0003])\n",
            "updated x = tensor([9.1997e-05], requires_grad=True)\n",
            "##########\n",
            "i = 28\n",
            "initial x = tensor([9.1997e-05], requires_grad=True)\n",
            "f(x) = tensor([8.4635e-09], grad_fn=<PowBackward0>)\n",
            "x.grad = tensor([0.0002])\n",
            "updated x = tensor([6.4398e-05], requires_grad=True)\n",
            "##########\n",
            "i = 29\n",
            "initial x = tensor([6.4398e-05], requires_grad=True)\n",
            "f(x) = tensor([4.1471e-09], grad_fn=<PowBackward0>)\n",
            "x.grad = tensor([0.0001])\n",
            "updated x = tensor([4.5079e-05], requires_grad=True)\n"
          ]
        }
      ],
      "source": [
        "x_history = [x.detach().numpy().copy()]\n",
        "for i in range(30):\n",
        "    print(f'##########')\n",
        "    print(f'i = {i}')\n",
        "    print(f'initial x = {x}')\n",
        "    opt.zero_grad()\n",
        "    z = f(x)\n",
        "    print(f'f(x) = {z}')\n",
        "    z.backward()\n",
        "    print(f'x.grad = {x.grad}')\n",
        "    opt.step()\n",
        "    print(f'updated x = {x}')\n",
        "    x_history.append(x.detach().numpy().copy())"
      ]
    },
    {
      "cell_type": "code",
      "execution_count": 80,
      "metadata": {
        "colab": {
          "base_uri": "https://localhost:8080/",
          "height": 447
        },
        "id": "SuKloBDwoFA-",
        "outputId": "7ed62b67-6a37-4682-d323-b9f86cbd5535"
      },
      "outputs": [
        {
          "output_type": "execute_result",
          "data": {
            "text/plain": [
              "[<matplotlib.lines.Line2D at 0x7e9ce38c6680>]"
            ]
          },
          "metadata": {},
          "execution_count": 80
        },
        {
          "output_type": "display_data",
          "data": {
            "text/plain": [
              "<Figure size 640x480 with 1 Axes>"
            ],
            "image/png": "[encoded data removed]"
          },
          "metadata": {}
        }
      ],
      "source": [
        "xvec = np.linspace(-2, 2, 100)\n",
        "fvec = f(xvec)\n",
        "plt.plot(xvec, fvec)\n",
        "plt.plot(x_history, f(np.array(x_history)), 'o-')"
      ]
    },
    {
      "cell_type": "markdown",
      "metadata": {
        "id": "ytHJwrWxoFA_"
      },
      "source": [
        "# `torch.nn`: Lets implement a neural network!\n",
        "\n",
        "Recall from the first example, we implemented a linear model to approximate some noisy data.\n",
        "\n",
        "What happens if we compose multiple linear models together?\n",
        "\n",
        "$$\\begin{align*}\n",
        "f_1{\\bf x} &= {\\bf W}_1 {\\bf x} + {\\bf b}_1 \\\\\n",
        "f_2{\\bf x} &= {\\bf W}_2 {\\bf x} + {\\bf b}_2 \\\\\n",
        "\\hat{f}({\\bf x}) &= f_2(f_1({\\bf x})) = {\\bf W}_2({\\bf W}_1 {\\bf x} + {\\bf b}_1) + {\\bf b}_2\n",
        "\\end{align*}$$\n",
        "\n",
        "If we distribute terms out, we get something that's still linear in ${\\bf x}$!  \n",
        "$$ \\hat{f}({\\bf x}) = {\\bf W}_2({\\bf W}_1 {\\bf x} + {\\bf b}_1) + {\\bf b}_2 = {\\bf W}_2 {\\bf W}_1 {\\bf x} + {\\bf W}_2 {\\bf b}_1 + {\\bf b}_2 $$\n",
        "\n",
        "This means that ultimately stacking many linear models together does not give us something more expressive.  However, we can introduce a nonlinearity in terms of an *activation function*.  There are many choices, like\n",
        "\n",
        "$$\\begin{align*}\n",
        "\\text{ReLU}({\\bf x})_i &= \\max\\{x_i, 0\\} \\\\\n",
        "\\sigma({\\bf x})_i &= e^x/(1 + e^x) \\\\\n",
        "\\text{Softplus}({\\bf x})_i &= \\ln(1+e^x) \\\\\n",
        "&\\enspace\\vdots\n",
        "\\end{align*}$$\n",
        "\n",
        "and many more.  We'll stick to ReLU here as it's pretty simple.  Adding these nonlinear functions to our model, we get\n",
        "$$\\begin{align*}\n",
        "f_1{\\bf x} &= \\text{ReLU}({\\bf W}_1 {\\bf x} + {\\bf b}_1) \\\\\n",
        "f_2{\\bf x} &= \\text{ReLU}({\\bf W}_2 {\\bf x} + {\\bf b}_2) \\\\\n",
        "\\hat{f}({\\bf x}) &= f_2(f_1({\\bf x})) = \\text{ReLU}({\\bf W}_2\\text{ReLU}({\\bf W}_1 {\\bf x} + {\\bf b}_1) + {\\bf b}_2)\n",
        "\\end{align*}$$\n",
        "Notice this is no longer linear in ${\\bf x}$.  Lets go ahead and implement this in PyTorch."
      ]
    },
    {
      "cell_type": "code",
      "execution_count": 113,
      "metadata": {
        "colab": {
          "base_uri": "https://localhost:8080/",
          "height": 430
        },
        "id": "zm71LfhtoFA_",
        "outputId": "7fcd3ed3-7221-44bb-b541-e20b60475c1b"
      },
      "outputs": [
        {
          "output_type": "display_data",
          "data": {
            "text/plain": [
              "<Figure size 640x480 with 1 Axes>"
            ],
            "image/png": "[encoded data removed]"
          },
          "metadata": {}
        }
      ],
      "source": [
        "x = torch.linspace(0, 2*np.pi, 100)\n",
        "y = torch.sin(x)\n",
        "plt.plot(x.numpy(), y.numpy(), 'r.');"
      ]
    },
    {
      "cell_type": "code",
      "execution_count": 114,
      "metadata": {
        "id": "ZXcRxtGdoFA_"
      },
      "outputs": [],
      "source": [
        "class MyModel(torch.nn.Module):\n",
        "    def __init__(self):\n",
        "        super(MyModel, self).__init__()\n",
        "        N = 8\n",
        "        self.fc1 = torch.nn.Linear(1, N)\n",
        "        self.fc2 = torch.nn.Linear(N, N)\n",
        "        self.fc3 = torch.nn.Linear(N, 1)\n",
        "\n",
        "    def forward(self, x):\n",
        "        x = x.reshape((-1, 1)) # We'll reshape this to a column vector\n",
        "        x = torch.nn.functional.relu(self.fc1(x))\n",
        "        x = torch.nn.functional.relu(self.fc2(x))\n",
        "        x = self.fc3(x)\n",
        "        return x.flatten()"
      ]
    },
    {
      "cell_type": "code",
      "execution_count": 115,
      "metadata": {
        "id": "IRRagcSyoFA_"
      },
      "outputs": [],
      "source": [
        "model = MyModel()"
      ]
    },
    {
      "cell_type": "code",
      "execution_count": 116,
      "metadata": {
        "colab": {
          "base_uri": "https://localhost:8080/",
          "height": 430
        },
        "id": "jALmxXJgoFA_",
        "outputId": "a4196bbe-edb9-4eca-d28f-daae45f5cc40"
      },
      "outputs": [
        {
          "output_type": "display_data",
          "data": {
            "text/plain": [
              "<Figure size 640x480 with 1 Axes>"
            ],
            "image/png": "[encoded data removed]"
          },
          "metadata": {}
        }
      ],
      "source": [
        "yp = model(x)\n",
        "\n",
        "plt.plot(x.numpy(), y.numpy(), 'r.');\n",
        "plt.plot(x.numpy(), yp.detach().numpy());"
      ]
    },
    {
      "cell_type": "code",
      "execution_count": 117,
      "metadata": {
        "id": "UCUwFFPuoFA_"
      },
      "outputs": [],
      "source": [
        "opt = torch.optim.Adam(model.parameters(), lr=0.01)\n",
        "loss_history = []"
      ]
    },
    {
      "cell_type": "code",
      "execution_count": 118,
      "metadata": {
        "colab": {
          "base_uri": "https://localhost:8080/",
          "height": 449
        },
        "id": "eW-YAdzWoFA_",
        "outputId": "9f0cac13-3bc6-4964-ae5f-e1f1ed7a188e"
      },
      "outputs": [
        {
          "output_type": "display_data",
          "data": {
            "text/plain": [
              "<Figure size 640x480 with 1 Axes>"
            ],
            "image/png": "[encoded data removed]"
          },
          "metadata": {}
        }
      ],
      "source": [
        "for i in range(5000):\n",
        "    # Remember the steps on how to write an optimization loop\n",
        "    # 1. zero out the optimizer's gradients\n",
        "    # 2. evaluate the model\n",
        "    # 3. compute loss\n",
        "    # 4. backpropagate gradients on the loss\n",
        "    # 5. take a step with the optimizer\n",
        "\n",
        "    # Fill me out!\n",
        "    opt.zero_grad()\n",
        "    y_eval = model(x)\n",
        "\n",
        "    # we use a mean squared loss\n",
        "    loss = torch.mean((y_eval - y)**2.)\n",
        "    loss_history.append(loss.item())\n",
        "\n",
        "    loss.backward()\n",
        "    opt.step()\n",
        "\n",
        "plt.plot(loss_history)\n",
        "plt.xlabel('Training iteration')\n",
        "plt.ylabel('Loss')\n",
        "plt.grid()"
      ]
    },
    {
      "cell_type": "code",
      "execution_count": 119,
      "metadata": {
        "colab": {
          "base_uri": "https://localhost:8080/",
          "height": 430
        },
        "id": "vnYbj3KqoFA_",
        "outputId": "e2939a60-21a1-4282-c79b-503d40cacb6b"
      },
      "outputs": [
        {
          "output_type": "display_data",
          "data": {
            "text/plain": [
              "<Figure size 640x480 with 1 Axes>"
            ],
            "image/png": "[encoded data removed]"
          },
          "metadata": {}
        }
      ],
      "source": [
        "plt.plot(x.numpy(), y.numpy(), 'r.');\n",
        "plt.plot(x.numpy(), y_eval.detach().numpy());"
      ]
    },
    {
      "cell_type": "markdown",
      "metadata": {
        "id": "jKNp9xc4oFA_"
      },
      "source": [
        "# Saving and restoring models\n",
        "\n",
        "Save and load the parameters, not the full models."
      ]
    },
    {
      "cell_type": "code",
      "execution_count": 93,
      "metadata": {
        "id": "z8pm96IjoFA_"
      },
      "outputs": [],
      "source": [
        "torch.save(model.state_dict(), 'model_file.pth')"
      ]
    },
    {
      "cell_type": "code",
      "execution_count": 94,
      "metadata": {
        "colab": {
          "base_uri": "https://localhost:8080/"
        },
        "id": "reX4spcmoFA_",
        "outputId": "f8c9b032-e1fb-4ea1-d7bf-629be4437857"
      },
      "outputs": [
        {
          "output_type": "execute_result",
          "data": {
            "text/plain": [
              "<All keys matched successfully>"
            ]
          },
          "metadata": {},
          "execution_count": 94
        }
      ],
      "source": [
        "model = MyModel()\n",
        "model.load_state_dict(torch.load('model_file.pth', weights_only=True))"
      ]
    },
    {
      "cell_type": "code",
      "execution_count": 95,
      "metadata": {
        "colab": {
          "base_uri": "https://localhost:8080/"
        },
        "id": "zy6ww97poFA_",
        "outputId": "0feaaa0c-1322-4e70-db18-9f5c8e7f37e0"
      },
      "outputs": [
        {
          "output_type": "execute_result",
          "data": {
            "text/plain": [
              "OrderedDict([('fc1.weight',\n",
              "              tensor([[ 0.1508],\n",
              "                      [-0.7789],\n",
              "                      [ 0.2099],\n",
              "                      [ 0.0036],\n",
              "                      [-0.3776],\n",
              "                      [-0.8588],\n",
              "                      [ 0.8544],\n",
              "                      [-0.6600]])),\n",
              "             ('fc1.bias',\n",
              "              tensor([ 0.7157, -0.5959, -0.2884, -0.1839,  0.5116, -0.3142, -0.0733,  0.6999])),\n",
              "             ('fc2.weight',\n",
              "              tensor([[-0.0332,  0.1901, -0.2799, -0.2757, -0.3376,  0.2051,  0.3266,  0.2960],\n",
              "                      [ 0.0480,  0.1767,  0.2418,  0.2134,  0.1531, -0.2348, -0.1979,  0.3511],\n",
              "                      [ 0.0093,  0.2978,  0.2489, -0.1508,  0.0823,  0.0467, -0.2479,  0.1917],\n",
              "                      [ 0.0070,  0.0109, -0.2748, -0.3182,  0.3493,  0.1223,  0.1651,  0.1455],\n",
              "                      [ 0.1651, -0.0644,  0.0731, -0.0109, -0.0741, -0.0957, -0.0426, -0.2642],\n",
              "                      [ 0.1067, -0.0378, -0.2873, -0.1446,  0.0763,  0.0100, -0.1013, -0.2504],\n",
              "                      [ 0.2018,  0.0082, -0.1547, -0.2014, -0.1989,  0.3205,  0.3279,  0.3474],\n",
              "                      [ 0.0046,  0.2318, -0.1713,  0.1145,  0.2686, -0.0646, -0.1387,  0.1458]])),\n",
              "             ('fc2.bias',\n",
              "              tensor([ 0.0178,  0.2276, -0.3202, -0.0408,  0.2934,  0.2418,  0.0231, -0.2789])),\n",
              "             ('fc3.weight',\n",
              "              tensor([[-0.1910, -0.1839, -0.2873, -0.0096, -0.2797, -0.0779,  0.1076,  0.0614]])),\n",
              "             ('fc3.bias', tensor([-0.2466]))])"
            ]
          },
          "metadata": {},
          "execution_count": 95
        }
      ],
      "source": [
        "model.state_dict()"
      ]
    }
  ],
  "metadata": {
    "kernelspec": {
      "display_name": "Python 3 (ipykernel)",
      "language": "python",
      "name": "python3"
    },
    "language_info": {
      "codemirror_mode": {
        "name": "ipython",
        "version": 3
      },
      "file_extension": ".py",
      "mimetype": "text/x-python",
      "name": "python",
      "nbconvert_exporter": "python",
      "pygments_lexer": "ipython3",
      "version": "3.12.5"
    },
    "colab": {
      "provenance": []
    }
  },
  "nbformat": 4,
  "nbformat_minor": 0
}